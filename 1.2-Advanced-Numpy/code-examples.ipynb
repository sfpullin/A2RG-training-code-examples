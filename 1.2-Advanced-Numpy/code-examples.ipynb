{
 "cells": [
  {
   "cell_type": "code",
   "execution_count": 6,
   "metadata": {},
   "outputs": [
    {
     "name": "stdout",
     "output_type": "stream",
     "text": [
      "(2, 4)\n",
      "3\n",
      "[1 2 3 4]\n",
      "[2 6]\n"
     ]
    }
   ],
   "source": [
    "import numpy as np\n",
    "\n",
    "array = np.array([[1,2,3,4], [5,6,7,8]])\n",
    "\n",
    "print(array.shape)\n",
    "\n",
    "print(array[0, 2])\n",
    "\n",
    "print(array[0,:])\n",
    "\n",
    "print(array[:,1])"
   ]
  },
  {
   "cell_type": "code",
   "execution_count": 7,
   "metadata": {},
   "outputs": [
    {
     "name": "stdout",
     "output_type": "stream",
     "text": [
      "<class 'numpy.float16'> - 3.140625000000000000000000\n",
      "<class 'numpy.float32'> - 3.141592741012573242187500\n",
      "<class 'numpy.float64'> - 3.141592653589793115997963\n",
      "True value              - 3.141592653589793238462643\n"
     ]
    }
   ],
   "source": [
    "import numpy as np\n",
    "PI_true = \"3.141592653589793238462643\"\n",
    "\n",
    "for prec in (np.float16, np.float32, np.float64):\n",
    "    pi = 4*np.arctan(1, dtype=prec)\n",
    "    print(\"{} - {:.24f}\".format(str(prec), pi))\n",
    "\n",
    "\n",
    "print(\"True value\", \" \"*12, \"-\", PI_true)\n"
   ]
  },
  {
   "cell_type": "code",
   "execution_count": 1,
   "metadata": {},
   "outputs": [
    {
     "name": "stdout",
     "output_type": "stream",
     "text": [
      "[0 1 2]\n",
      "[ 0  6 12 18]\n",
      "[5 4 3 2 1 0]\n",
      "[5 4 3 2 1 0]\n",
      "[ 2  8 14]\n"
     ]
    }
   ],
   "source": [
    "import numpy as np\n",
    "\n",
    "array = np.arange(24)               # Create 1D array of integers 0-23\n",
    "\n",
    "# Every element up to the 4th index (non-inclusive)\n",
    "print( array[:3] )                  # [0 1 2]\n",
    "# Every 6th element\n",
    "print( array[::6] )                 # [0 6 12 18]\n",
    "# Count backwards from 5th element\n",
    "print( array[5::-1] )               # [5 4 3 2 1 0]\n",
    "\n",
    "array = np.reshape(array, (4,6))    # Reshape 1D array into a 4x6 2D array\n",
    "\n",
    "# Get the first element in axis 0 and flip\n",
    "print( array[0, ::-1] )             # [5 4 3 2 1 0]\n",
    "# Return the first 3 elements of the 3rd element in axis 1\n",
    "print( array[:3, 2] )               # [2 8 14]\n"
   ]
  },
  {
   "cell_type": "code",
   "execution_count": 10,
   "metadata": {},
   "outputs": [
    {
     "name": "stdout",
     "output_type": "stream",
     "text": [
      "[[ 0  1  2  3  4  5]\n",
      " [18 19 20 21 22 23]]\n",
      "[[ 0  1  4]\n",
      " [ 6  7 10]\n",
      " [12 13 16]\n",
      " [18 19 22]]\n",
      "[18 19 20 21 22 23]\n"
     ]
    }
   ],
   "source": [
    "import numpy as np\n",
    "\n",
    "array = np.arange(24)                   # Create 1D array of integers 0-23\n",
    "array = np.reshape(array, (4,6))        # Reshape 1D array into a 4x6 2D array\n",
    "\n",
    "\n",
    "# Get the 1st and 4nd elements along the first axis\n",
    "print(array[np.array([0, 3])])          #[[ 0  1  2  3  4  5]\n",
    "                                        # [18 19 20 21 22 23]]\n",
    "\n",
    "# Get the 1st, 2rd and 5th elements along the second axis for \n",
    "# all elements in the first axis \n",
    "print(array[:, np.array([0, 1, 4])])    #[[ 0  1  4]\n",
    "                                        # [ 6  7 10]\n",
    "                                        # [12 13 16]\n",
    "                                        # [18 19 22]]\n",
    "\n",
    "# Get ll items in the array that are greater than 17\n",
    "print(array[array > 17])                # [18 19 20 21 22 23]"
   ]
  },
  {
   "cell_type": "code",
   "execution_count": 1,
   "metadata": {},
   "outputs": [
    {
     "name": "stdout",
     "output_type": "stream",
     "text": [
      "[[[ 5  6]\n",
      "  [14 16]]\n",
      "\n",
      " [[15 18]\n",
      "  [28 32]]]\n",
      "[[19 22]\n",
      " [43 50]]\n"
     ]
    }
   ],
   "source": [
    "import numpy as np\n",
    "\n",
    "# Create two 2x2 matrix arrays\n",
    "A = np.array([[1, 2], [3, 4]])\n",
    "B = np.array([[5, 6], [7, 8]])\n",
    "\n",
    "# Print intermediate step for matrix multiplication\n",
    "I = np.einsum(\"ij,jk->ijk\", A, B)\n",
    "print(I)\n",
    "\n",
    "# Print result of matrix multiplication using einsum\n",
    "C = np.einsum(\"ij,jk->ik\", A, B)\n",
    "print(C)"
   ]
  }
 ],
 "metadata": {
  "kernelspec": {
   "display_name": "Python 3",
   "language": "python",
   "name": "python3"
  },
  "language_info": {
   "codemirror_mode": {
    "name": "ipython",
    "version": 3
   },
   "file_extension": ".py",
   "mimetype": "text/x-python",
   "name": "python",
   "nbconvert_exporter": "python",
   "pygments_lexer": "ipython3",
   "version": "3.12.7"
  }
 },
 "nbformat": 4,
 "nbformat_minor": 2
}
