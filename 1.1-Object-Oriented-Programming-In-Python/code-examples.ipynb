{
 "cells": [
  {
   "cell_type": "code",
   "execution_count": 3,
   "metadata": {},
   "outputs": [
    {
     "name": "stdout",
     "output_type": "stream",
     "text": [
      "The area of the triangle is: 6.0\n",
      "The area of the quadrilateral is: 6.0\n"
     ]
    }
   ],
   "source": [
    "def triangle_area(point1, point2, point3):\n",
    "    \"\"\"\n",
    "    Calculate the area of a triangle given its vertices.\n",
    "\n",
    "    Parameters:\n",
    "    point1, point2, point3 (tuple): Tuples representing the (x, y) coordinates of the triangle's vertices.\n",
    "\n",
    "    Returns:\n",
    "    float: The area of the triangle.\n",
    "    \"\"\"\n",
    "    # Unpack the input points\n",
    "    x1, y1 = point1\n",
    "    x2, y2 = point2\n",
    "    x3, y3 = point3\n",
    "\n",
    "    # Use the shoelace formula to compute the area\n",
    "    area = abs(\n",
    "        x1 * (y2 - y3) +\n",
    "        x2 * (y3 - y1) +\n",
    "        x3 * (y1 - y2)\n",
    "    ) / 2.0\n",
    "\n",
    "    return area\n",
    "\n",
    "def quadrilateral_area(point1, point2, point3, point4):\n",
    "    \"\"\"\n",
    "    Calculate the area of a quadrilateral given its vertices.\n",
    "\n",
    "    Parameters:\n",
    "    point1, point2, point3, point4 (tuple): Tuples representing the (x, y) coordinates of the quadrilateral's vertices.\n",
    "\n",
    "    Returns:\n",
    "    float: The area of the quadrilateral.\n",
    "    \"\"\"\n",
    "    # Unpack the points\n",
    "    x1, y1 = point1\n",
    "    x2, y2 = point2\n",
    "    x3, y3 = point3\n",
    "    x4, y4 = point4\n",
    "\n",
    "    # Shoelace formula for quadrilateral\n",
    "    area = 0.5 * abs(\n",
    "        x1 * y2 + x2 * y3 + x3 * y4 + x4 * y1 - (y1 * x2 + y2 * x3 + y3 * x4 + y4 * x1)\n",
    "    )\n",
    "\n",
    "    return area\n",
    "\n",
    "# Example usage:\n",
    "# Define some points\n",
    "point1 = (0, 0)\n",
    "point2 = (4, 0)\n",
    "point3 = (0, 3)\n",
    "point4 = (0, 3)\n",
    "\n",
    "# Calculate the area\n",
    "area = triangle_area(point1, point2, point3)\n",
    "print(\"The area of the triangle is:\", area)\n",
    "\n",
    "area = quadrilateral_area(point1, point2, point3, point4)\n",
    "print(\"The area of the quadrilateral is:\", area)\n"
   ]
  }
 ],
 "metadata": {
  "kernelspec": {
   "display_name": "Python 3",
   "language": "python",
   "name": "python3"
  },
  "language_info": {
   "codemirror_mode": {
    "name": "ipython",
    "version": 3
   },
   "file_extension": ".py",
   "mimetype": "text/x-python",
   "name": "python",
   "nbconvert_exporter": "python",
   "pygments_lexer": "ipython3",
   "version": "3.12.6"
  }
 },
 "nbformat": 4,
 "nbformat_minor": 2
}
