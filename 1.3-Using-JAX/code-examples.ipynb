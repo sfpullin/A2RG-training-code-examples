{
 "cells": [
  {
   "cell_type": "code",
   "execution_count": 1,
   "metadata": {},
   "outputs": [
    {
     "name": "stdout",
     "output_type": "stream",
     "text": [
      "NumPy Array: [1. 2. 3.]\n",
      "JAX Device Array: [1. 2. 3.]\n"
     ]
    }
   ],
   "source": [
    "import jax.numpy as jnp\n",
    "import numpy as np\n",
    "\n",
    "# Creating a NumPy array\n",
    "np_array = np.array([1.0, 2.0, 3.0])\n",
    "\n",
    "# Creating a JAX Device Array\n",
    "jax_array = jnp.array([1.0, 2.0, 3.0])\n",
    "\n",
    "print(\"NumPy Array:\", np_array)\n",
    "print(\"JAX Device Array:\", jax_array)"
   ]
  },
  {
   "cell_type": "code",
   "execution_count": 11,
   "metadata": {},
   "outputs": [
    {
     "name": "stdout",
     "output_type": "stream",
     "text": [
      "Exponential Integral of 1.0: [0.21938422]\n",
      "Gamma function of 2.5: 1.3293406\n",
      "Modified Bessel function I_0(1.0): 1.266066\n"
     ]
    }
   ],
   "source": [
    "import jax.scipy as jsp\n",
    "\n",
    "# Example: Computing the exponential integral function\n",
    "eig_val = jsp.special.exp1(jnp.array([1.0]))\n",
    "\n",
    "print(\"Exponential Integral of 1.0:\", eig_val)\n",
    "\n",
    "# Example: Computing the gamma function\n",
    "gamma_val = jsp.special.gamma(jnp.array(2.5))\n",
    "\n",
    "print(\"Gamma function of 2.5:\", gamma_val)\n",
    "\n",
    "# Example: Computing the modified Bessel function of the first kind\n",
    "bessel_val = jsp.special.i0(jnp.array(1.0))\n",
    "\n",
    "print(\"Modified Bessel function I_0(1.0):\", bessel_val)"
   ]
  },
  {
   "cell_type": "code",
   "execution_count": 12,
   "metadata": {},
   "outputs": [
    {
     "name": "stdout",
     "output_type": "stream",
     "text": [
      "Result of lax.cond: 6\n"
     ]
    }
   ],
   "source": [
    "from jax import lax\n",
    "\n",
    "# Example: Conditional computation using lax.cond\n",
    "x = 5\n",
    "out = lax.cond(x > 0, lambda x: x + 1, lambda x: x - 1, x)\n",
    "\n",
    "print(\"Result of lax.cond:\", out)"
   ]
  },
  {
   "cell_type": "code",
   "execution_count": 4,
   "metadata": {},
   "outputs": [
    {
     "name": "stdout",
     "output_type": "stream",
     "text": [
      "Function value y at x=0.5: 1.4574634148997203\n",
      "Numerical derivative dy/dx1 at x=0.5: 1.4200403482433896\n"
     ]
    }
   ],
   "source": [
    "import numpy as np\n",
    "\n",
    "# Define the function y = x1^2 * sin(x1^2) + e^(x1/x2)\n",
    "def f(x1, x2):\n",
    "    return x1**2 * np.sin(x1**2) + np.exp(x1 / x2)\n",
    "\n",
    "# Define the derivative using central difference with a small h\n",
    "def numerical_derivative(f, x1, x2, h=1e-5):\n",
    "    return (f(x1 + h, x2) - f(x1 - h, x2)) / (2 * h)\n",
    "\n",
    "# Set the value of x1 and x2\n",
    "x1 = 0.5\n",
    "x2 = 1.5\n",
    "\n",
    "# Calculate the value of the function and its numerical derivative at x = 0.5\n",
    "y = f(x1, x2)\n",
    "dy_dx1 = numerical_derivative(f, x1, x2)\n",
    "\n",
    "print(\"Function value y at x=0.5:\", y)\n",
    "print(\"Numerical derivative dy/dx1 at x=0.5:\", dy_dx1)"
   ]
  },
  {
   "cell_type": "code",
   "execution_count": 4,
   "metadata": {},
   "outputs": [
    {
     "name": "stdout",
     "output_type": "stream",
     "text": [
      "Function value y at x=0.5: 1.4574635\n",
      "Algorithmic derivative dy/dx1 at x=0.5: (Array(1.4200404, dtype=float32, weak_type=True),)\n"
     ]
    }
   ],
   "source": [
    "from jax import numpy as jnp\n",
    "from jax import jacfwd\n",
    "\n",
    "# Define the function y = x1^2 * sin(x1^2) + e^(x1/x2)\n",
    "def f(x1, x2):\n",
    "    return x1**2 * jnp.sin(x1**2) + jnp.exp(x1 / x2)\n",
    "\n",
    "# Get the derivative function using JAX\n",
    "df = jacfwd(f, argnums=(0,))\n",
    "\n",
    "# Set the value of x1 and x2\n",
    "x1 = 0.5\n",
    "x2 = 1.5\n",
    "\n",
    "# Calculate the value of the function and its numerical derivative at x = 0.5\n",
    "y = f(x1, x2)\n",
    "dy_dx1 = df(x1, x2)\n",
    "\n",
    "print(\"Function value y at x=0.5:\", y)\n",
    "print(\"Algorithmic derivative dy/dx1 at x=0.5:\", dy_dx1)"
   ]
  },
  {
   "cell_type": "code",
   "execution_count": 5,
   "metadata": {},
   "outputs": [
    {
     "name": "stdout",
     "output_type": "stream",
     "text": [
      "[[19. 22.]\n",
      " [43. 50.]]\n"
     ]
    }
   ],
   "source": [
    "import jax\n",
    "import jax.numpy as jnp\n",
    "\n",
    "@jax.jit\n",
    "def example_function(x, y):\n",
    "    return jnp.sin(x) * jnp.cos(y) + jnp.sin(x)/(1+ jnp.cos(y))\n",
    "\n",
    "# Example usage\n",
    "x = jnp.array([[1.0, 2.0], [3.0, 4.0]])\n",
    "y = jnp.array([[5.0, 6.0], [7.0, 8.0]])\n",
    "result = example_function(x, y)\n",
    "print(result)"
   ]
  },
  {
   "cell_type": "code",
   "execution_count": 60,
   "metadata": {},
   "outputs": [
    {
     "name": "stdout",
     "output_type": "stream",
     "text": [
      "JAX JIT execution time: 16.37 ms\n",
      "NumPy execution time: 1.0004 ms\n"
     ]
    }
   ],
   "source": [
    "import jax\n",
    "import jax.numpy as jnp\n",
    "import numpy as np\n",
    "import time\n",
    "\n",
    "@jax.jit\n",
    "def example_function(x, y):\n",
    "    return jnp.sin(x) * jnp.cos(y) + jnp.sin(x)/(1+ jnp.cos(y))\n",
    "\n",
    "def example_function_numpy(x, y):\n",
    "    return jnp.sin(x) * jnp.cos(y) + jnp.sin(x)/(1 + jnp.cos(y))\n",
    "\n",
    "x_jax = jnp.array([[1.0, 2.0], [3.0, 4.0]])\n",
    "y_jax = jnp.array([[5.0, 6.0], [7.0, 8.0]])\n",
    "\n",
    "x_np = np.array([[1.0, 2.0], [3.0, 4.0]])\n",
    "y_np = np.array([[5.0, 6.0], [7.0, 8.0]])\n",
    "\n",
    "# Timing JAX implementation\n",
    "start = time.time()\n",
    "jax_result = example_function(x_jax, y_jax).block_until_ready()  # block_until_ready() ensures all operations complete\n",
    "end = time.time()\n",
    "print(\"JAX JIT execution time: {:.5} ms\".format( (end - start)*1000 ))\n",
    "\n",
    "# Timing NumPy implementation\n",
    "start = time.time()\n",
    "np_result = example_function_numpy(x_np, y_np)\n",
    "end = time.time()\n",
    "print(\"NumPy execution time: {:.5} ms\".format( (end - start)*1000 ))\n",
    "\n",
    "# JAX JIT execution time: 17.981 ms\n",
    "# NumPy execution time: 1.0002 ms"
   ]
  },
  {
   "cell_type": "code",
   "execution_count": 61,
   "metadata": {},
   "outputs": [
    {
     "name": "stdout",
     "output_type": "stream",
     "text": [
      "JAX JIT execution time (10,000 runs): 56.106 ms\n",
      "NumPy execution time (10,000 runs): 665.18 ms\n"
     ]
    }
   ],
   "source": [
    "# Timing repeated JAX implementation\n",
    "\n",
    "N_rep = 10000\n",
    "\n",
    "start = time.time()\n",
    "for _ in range(N_rep):\n",
    "    jax_result = example_function(x_jax, y_jax).block_until_ready()\n",
    "end = time.time()\n",
    "print(\"JAX JIT execution time (10,000 runs): {:.5} ms\".format( (end - start)*1000 ))\n",
    "\n",
    "# Timing repeated NumPy implementation\n",
    "start = time.time()\n",
    "for _ in range(N_rep):\n",
    "    np_result = example_function_numpy(x_np, y_np)\n",
    "end = time.time()\n",
    "print(\"NumPy execution time (10,000 runs): {:.5} ms\".format( (end - start)*1000 ))\n",
    "\n",
    "# JAX JIT execution time (10,000 runs): 56.354 ms\n",
    "# NumPy execution time (10,000 runs): 661.88 ms"
   ]
  }
 ],
 "metadata": {
  "kernelspec": {
   "display_name": "Python 3",
   "language": "python",
   "name": "python3"
  },
  "language_info": {
   "codemirror_mode": {
    "name": "ipython",
    "version": 3
   },
   "file_extension": ".py",
   "mimetype": "text/x-python",
   "name": "python",
   "nbconvert_exporter": "python",
   "pygments_lexer": "ipython3",
   "version": "3.12.7"
  }
 },
 "nbformat": 4,
 "nbformat_minor": 2
}
